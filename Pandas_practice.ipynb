{
  "cells": [
    {
      "cell_type": "markdown",
      "metadata": {
        "id": "view-in-github",
        "colab_type": "text"
      },
      "source": [
        "<a href=\"https://colab.research.google.com/github/Leehembling/Pandas/blob/main/Pandas_practice.ipynb\" target=\"_parent\"><img src=\"https://colab.research.google.com/assets/colab-badge.svg\" alt=\"Open In Colab\"/></a>"
      ]
    },
    {
      "cell_type": "code",
      "execution_count": null,
      "metadata": {
        "id": "gUq3hI4KUxKr",
        "colab": {
          "base_uri": "https://localhost:8080/"
        },
        "outputId": "b77ba774-e803-408b-f4c9-1a5e0ac19648"
      },
      "outputs": [
        {
          "output_type": "stream",
          "name": "stdout",
          "text": [
            "2.0.3\n",
            "geopandas==0.13.2\n",
            "pandas==2.0.3\n",
            "pandas-datareader==0.10.0\n",
            "pandas-gbq==0.19.2\n",
            "pandas-stubs==2.0.3.230814\n",
            "sklearn-pandas==2.2.0\n",
            "Package                          Version\n",
            "-------------------------------- ---------------------\n",
            "absl-py                          1.4.0\n",
            "aiohttp                          3.9.5\n",
            "aiosignal                        1.3.1\n",
            "alabaster                        0.7.16\n",
            "albumentations                   1.3.1\n",
            "altair                           4.2.2\n",
            "annotated-types                  0.6.0\n",
            "anyio                            3.7.1\n",
            "appdirs                          1.4.4\n",
            "argon2-cffi                      23.1.0\n",
            "argon2-cffi-bindings             21.2.0\n",
            "array_record                     0.5.1\n",
            "arviz                            0.15.1\n",
            "astropy                          5.3.4\n",
            "astunparse                       1.6.3\n",
            "async-timeout                    4.0.3\n",
            "atpublic                         4.1.0\n",
            "attrs                            23.2.0\n",
            "audioread                        3.0.1\n",
            "autograd                         1.6.2\n",
            "Babel                            2.15.0\n",
            "backcall                         0.2.0\n",
            "beautifulsoup4                   4.12.3\n",
            "bidict                           0.23.1\n",
            "bigframes                        1.5.0\n",
            "bleach                           6.1.0\n",
            "blinker                          1.4\n",
            "blis                             0.7.11\n",
            "blosc2                           2.0.0\n",
            "bokeh                            3.3.4\n",
            "bqplot                           0.12.43\n",
            "branca                           0.7.2\n",
            "build                            1.2.1\n",
            "CacheControl                     0.14.0\n",
            "cachetools                       5.3.3\n",
            "catalogue                        2.0.10\n",
            "certifi                          2024.2.2\n",
            "cffi                             1.16.0\n",
            "chardet                          5.2.0\n",
            "charset-normalizer               3.3.2\n",
            "chex                             0.1.86\n",
            "click                            8.1.7\n",
            "click-plugins                    1.1.1\n",
            "cligj                            0.7.2\n",
            "cloudpathlib                     0.16.0\n",
            "cloudpickle                      2.2.1\n",
            "cmake                            3.27.9\n",
            "cmdstanpy                        1.2.2\n",
            "colorcet                         3.1.0\n",
            "colorlover                       0.3.0\n",
            "colour                           0.1.5\n",
            "community                        1.0.0b1\n",
            "confection                       0.1.4\n",
            "cons                             0.4.6\n",
            "contextlib2                      21.6.0\n",
            "contourpy                        1.2.1\n",
            "cryptography                     42.0.7\n",
            "cuda-python                      12.2.1\n",
            "cudf-cu12                        24.4.1\n",
            "cufflinks                        0.17.3\n",
            "cupy-cuda12x                     12.2.0\n",
            "cvxopt                           1.3.2\n",
            "cvxpy                            1.3.4\n",
            "cycler                           0.12.1\n",
            "cymem                            2.0.8\n",
            "Cython                           3.0.10\n",
            "dask                             2023.8.1\n",
            "datascience                      0.17.6\n",
            "db-dtypes                        1.2.0\n",
            "dbus-python                      1.2.18\n",
            "debugpy                          1.6.6\n",
            "decorator                        4.4.2\n",
            "defusedxml                       0.7.1\n",
            "distributed                      2023.8.1\n",
            "distro                           1.7.0\n",
            "dlib                             19.24.4\n",
            "dm-tree                          0.1.8\n",
            "docstring_parser                 0.16\n",
            "docutils                         0.18.1\n",
            "dopamine_rl                      4.0.9\n",
            "duckdb                           0.10.2\n",
            "earthengine-api                  0.1.401\n",
            "easydict                         1.13\n",
            "ecos                             2.0.13\n",
            "editdistance                     0.6.2\n",
            "eerepr                           0.0.4\n",
            "en-core-web-sm                   3.7.1\n",
            "entrypoints                      0.4\n",
            "et-xmlfile                       1.1.0\n",
            "etils                            1.7.0\n",
            "etuples                          0.3.9\n",
            "exceptiongroup                   1.2.1\n",
            "fastai                           2.7.15\n",
            "fastcore                         1.5.33\n",
            "fastdownload                     0.0.7\n",
            "fastjsonschema                   2.19.1\n",
            "fastprogress                     1.0.3\n",
            "fastrlock                        0.8.2\n",
            "filelock                         3.14.0\n",
            "fiona                            1.9.6\n",
            "firebase-admin                   5.3.0\n",
            "Flask                            2.2.5\n",
            "flatbuffers                      24.3.25\n",
            "flax                             0.8.3\n",
            "folium                           0.14.0\n",
            "fonttools                        4.51.0\n",
            "frozendict                       2.4.4\n",
            "frozenlist                       1.4.1\n",
            "fsspec                           2023.6.0\n",
            "future                           0.18.3\n",
            "gast                             0.5.4\n",
            "gcsfs                            2023.6.0\n",
            "GDAL                             3.6.4\n",
            "gdown                            5.1.0\n",
            "geemap                           0.32.1\n",
            "gensim                           4.3.2\n",
            "geocoder                         1.38.1\n",
            "geographiclib                    2.0\n",
            "geopandas                        0.13.2\n",
            "geopy                            2.3.0\n",
            "gin-config                       0.5.0\n",
            "glob2                            0.7\n",
            "google                           2.0.3\n",
            "google-ai-generativelanguage     0.6.2\n",
            "google-api-core                  2.11.1\n",
            "google-api-python-client         2.84.0\n",
            "google-auth                      2.27.0\n",
            "google-auth-httplib2             0.1.1\n",
            "google-auth-oauthlib             1.2.0\n",
            "google-cloud-aiplatform          1.48.0\n",
            "google-cloud-bigquery            3.21.0\n",
            "google-cloud-bigquery-connection 1.12.1\n",
            "google-cloud-bigquery-storage    2.25.0\n",
            "google-cloud-core                2.3.3\n",
            "google-cloud-datastore           2.15.2\n",
            "google-cloud-firestore           2.11.1\n",
            "google-cloud-functions           1.13.3\n",
            "google-cloud-iam                 2.15.0\n",
            "google-cloud-language            2.13.3\n",
            "google-cloud-resource-manager    1.12.3\n",
            "google-cloud-storage             2.8.0\n",
            "google-cloud-translate           3.11.3\n",
            "google-colab                     1.0.0\n",
            "google-crc32c                    1.5.0\n",
            "google-generativeai              0.5.2\n",
            "google-pasta                     0.2.0\n",
            "google-resumable-media           2.7.0\n",
            "googleapis-common-protos         1.63.0\n",
            "googledrivedownloader            0.4\n",
            "graphviz                         0.20.3\n",
            "greenlet                         3.0.3\n",
            "grpc-google-iam-v1               0.13.0\n",
            "grpcio                           1.63.0\n",
            "grpcio-status                    1.48.2\n",
            "gspread                          6.0.2\n",
            "gspread-dataframe                3.3.1\n",
            "gym                              0.25.2\n",
            "gym-notices                      0.0.8\n",
            "h5netcdf                         1.3.0\n",
            "h5py                             3.9.0\n",
            "holidays                         0.48\n",
            "holoviews                        1.17.1\n",
            "html5lib                         1.1\n",
            "httpimport                       1.3.1\n",
            "httplib2                         0.22.0\n",
            "huggingface-hub                  0.20.3\n",
            "humanize                         4.7.0\n",
            "hyperopt                         0.2.7\n",
            "ibis-framework                   8.0.0\n",
            "idna                             3.7\n",
            "imageio                          2.31.6\n",
            "imageio-ffmpeg                   0.4.9\n",
            "imagesize                        1.4.1\n",
            "imbalanced-learn                 0.10.1\n",
            "imgaug                           0.4.0\n",
            "importlib_metadata               7.1.0\n",
            "importlib_resources              6.4.0\n",
            "imutils                          0.5.4\n",
            "inflect                          7.0.0\n",
            "iniconfig                        2.0.0\n",
            "intel-openmp                     2023.2.4\n",
            "ipyevents                        2.0.2\n",
            "ipyfilechooser                   0.6.0\n",
            "ipykernel                        5.5.6\n",
            "ipyleaflet                       0.18.2\n",
            "ipython                          7.34.0\n",
            "ipython-genutils                 0.2.0\n",
            "ipython-sql                      0.5.0\n",
            "ipytree                          0.2.2\n",
            "ipywidgets                       7.7.1\n",
            "itsdangerous                     2.2.0\n",
            "jax                              0.4.26\n",
            "jaxlib                           0.4.26+cuda12.cudnn89\n",
            "jeepney                          0.7.1\n",
            "jieba                            0.42.1\n",
            "Jinja2                           3.1.4\n",
            "joblib                           1.4.2\n",
            "jsonpickle                       3.0.4\n",
            "jsonschema                       4.19.2\n",
            "jsonschema-specifications        2023.12.1\n",
            "jupyter-client                   6.1.12\n",
            "jupyter-console                  6.1.0\n",
            "jupyter_core                     5.7.2\n",
            "jupyter-server                   1.24.0\n",
            "jupyterlab_pygments              0.3.0\n",
            "jupyterlab_widgets               3.0.10\n",
            "kaggle                           1.6.12\n",
            "kagglehub                        0.2.5\n",
            "keras                            2.15.0\n",
            "keyring                          23.5.0\n",
            "kiwisolver                       1.4.5\n",
            "langcodes                        3.4.0\n",
            "language_data                    1.2.0\n",
            "launchpadlib                     1.10.16\n",
            "lazr.restfulclient               0.14.4\n",
            "lazr.uri                         1.0.6\n",
            "lazy_loader                      0.4\n",
            "libclang                         18.1.1\n",
            "librosa                          0.10.2\n",
            "lightgbm                         4.1.0\n",
            "linkify-it-py                    2.0.3\n",
            "llvmlite                         0.41.1\n",
            "locket                           1.0.0\n",
            "logical-unification              0.4.6\n",
            "lxml                             4.9.4\n",
            "malloy                           2023.1067\n",
            "marisa-trie                      1.1.1\n",
            "Markdown                         3.6\n",
            "markdown-it-py                   3.0.0\n",
            "MarkupSafe                       2.1.5\n",
            "matplotlib                       3.7.1\n",
            "matplotlib-inline                0.1.7\n",
            "matplotlib-venn                  0.11.10\n",
            "mdit-py-plugins                  0.4.0\n",
            "mdurl                            0.1.2\n",
            "miniKanren                       1.0.3\n",
            "missingno                        0.5.2\n",
            "mistune                          0.8.4\n",
            "mizani                           0.9.3\n",
            "mkl                              2023.2.0\n",
            "ml-dtypes                        0.2.0\n",
            "mlxtend                          0.22.0\n",
            "more-itertools                   10.1.0\n",
            "moviepy                          1.0.3\n",
            "mpmath                           1.3.0\n",
            "msgpack                          1.0.8\n",
            "multidict                        6.0.5\n",
            "multipledispatch                 1.0.0\n",
            "multitasking                     0.0.11\n",
            "murmurhash                       1.0.10\n",
            "music21                          9.1.0\n",
            "natsort                          8.4.0\n",
            "nbclassic                        1.0.0\n",
            "nbclient                         0.10.0\n",
            "nbconvert                        6.5.4\n",
            "nbformat                         5.10.4\n",
            "nest-asyncio                     1.6.0\n",
            "networkx                         3.3\n",
            "nibabel                          4.0.2\n",
            "nltk                             3.8.1\n",
            "notebook                         6.5.5\n",
            "notebook_shim                    0.2.4\n",
            "numba                            0.58.1\n",
            "numexpr                          2.10.0\n",
            "numpy                            1.25.2\n",
            "nvtx                             0.2.10\n",
            "oauth2client                     4.1.3\n",
            "oauthlib                         3.2.2\n",
            "opencv-contrib-python            4.8.0.76\n",
            "opencv-python                    4.8.0.76\n",
            "opencv-python-headless           4.9.0.80\n",
            "openpyxl                         3.1.2\n",
            "opt-einsum                       3.3.0\n",
            "optax                            0.2.2\n",
            "orbax-checkpoint                 0.4.4\n",
            "osqp                             0.6.2.post8\n",
            "packaging                        24.0\n",
            "pandas                           2.0.3\n",
            "pandas-datareader                0.10.0\n",
            "pandas-gbq                       0.19.2\n",
            "pandas-stubs                     2.0.3.230814\n",
            "pandocfilters                    1.5.1\n",
            "panel                            1.3.8\n",
            "param                            2.1.0\n",
            "parso                            0.8.4\n",
            "parsy                            2.1\n",
            "partd                            1.4.2\n",
            "pathlib                          1.0.1\n",
            "patsy                            0.5.6\n",
            "peewee                           3.17.3\n",
            "pexpect                          4.9.0\n",
            "pickleshare                      0.7.5\n",
            "Pillow                           9.4.0\n",
            "pip                              23.1.2\n",
            "pip-tools                        6.13.0\n",
            "platformdirs                     4.2.1\n",
            "plotly                           5.15.0\n",
            "plotnine                         0.12.4\n",
            "pluggy                           1.5.0\n",
            "polars                           0.20.2\n",
            "pooch                            1.8.1\n",
            "portpicker                       1.5.2\n",
            "prefetch-generator               1.0.3\n",
            "preshed                          3.0.9\n",
            "prettytable                      3.10.0\n",
            "proglog                          0.1.10\n",
            "progressbar2                     4.2.0\n",
            "prometheus_client                0.20.0\n",
            "promise                          2.3\n",
            "prompt-toolkit                   3.0.43\n",
            "prophet                          1.1.5\n",
            "proto-plus                       1.23.0\n",
            "protobuf                         3.20.3\n",
            "psutil                           5.9.5\n",
            "psycopg2                         2.9.9\n",
            "ptyprocess                       0.7.0\n",
            "py-cpuinfo                       9.0.0\n",
            "py4j                             0.10.9.7\n",
            "pyarrow                          14.0.2\n",
            "pyarrow-hotfix                   0.6\n",
            "pyasn1                           0.6.0\n",
            "pyasn1_modules                   0.4.0\n",
            "pycocotools                      2.0.7\n",
            "pycparser                        2.22\n",
            "pydantic                         2.7.1\n",
            "pydantic_core                    2.18.2\n",
            "pydata-google-auth               1.8.2\n",
            "pydot                            1.4.2\n",
            "pydot-ng                         2.0.0\n",
            "pydotplus                        2.0.2\n",
            "PyDrive                          1.3.1\n",
            "PyDrive2                         1.6.3\n",
            "pyerfa                           2.0.1.4\n",
            "pygame                           2.5.2\n",
            "Pygments                         2.16.1\n",
            "PyGObject                        3.42.1\n",
            "PyJWT                            2.3.0\n",
            "pymc                             5.10.4\n",
            "pymystem3                        0.2.0\n",
            "pynvjitlink-cu12                 0.2.3\n",
            "PyOpenGL                         3.1.7\n",
            "pyOpenSSL                        24.1.0\n",
            "pyparsing                        3.1.2\n",
            "pyperclip                        1.8.2\n",
            "pyproj                           3.6.1\n",
            "pyproject_hooks                  1.1.0\n",
            "pyshp                            2.3.1\n",
            "PySocks                          1.7.1\n",
            "pytensor                         2.18.6\n",
            "pytest                           7.4.4\n",
            "python-apt                       0.0.0\n",
            "python-box                       7.1.1\n",
            "python-dateutil                  2.8.2\n",
            "python-louvain                   0.16\n",
            "python-slugify                   8.0.4\n",
            "python-utils                     3.8.2\n",
            "pytz                             2023.4\n",
            "pyviz_comms                      3.0.2\n",
            "PyWavelets                       1.6.0\n",
            "PyYAML                           6.0.1\n",
            "pyzmq                            24.0.1\n",
            "qdldl                            0.1.7.post2\n",
            "qudida                           0.0.4\n",
            "ratelim                          0.1.6\n",
            "referencing                      0.35.1\n",
            "regex                            2023.12.25\n",
            "requests                         2.31.0\n",
            "requests-oauthlib                1.3.1\n",
            "requirements-parser              0.9.0\n",
            "rich                             13.7.1\n",
            "rmm-cu12                         24.4.0\n",
            "rpds-py                          0.18.1\n",
            "rpy2                             3.4.2\n",
            "rsa                              4.9\n",
            "safetensors                      0.4.3\n",
            "scikit-image                     0.19.3\n",
            "scikit-learn                     1.2.2\n",
            "scipy                            1.11.4\n",
            "scooby                           0.10.0\n",
            "scs                              3.2.4.post1\n",
            "seaborn                          0.13.1\n",
            "SecretStorage                    3.3.1\n",
            "Send2Trash                       1.8.3\n",
            "sentencepiece                    0.1.99\n",
            "setuptools                       67.7.2\n",
            "shapely                          2.0.4\n",
            "six                              1.16.0\n",
            "sklearn-pandas                   2.2.0\n",
            "smart-open                       6.4.0\n",
            "sniffio                          1.3.1\n",
            "snowballstemmer                  2.2.0\n",
            "sortedcontainers                 2.4.0\n",
            "soundfile                        0.12.1\n",
            "soupsieve                        2.5\n",
            "soxr                             0.3.7\n",
            "spacy                            3.7.4\n",
            "spacy-legacy                     3.0.12\n",
            "spacy-loggers                    1.0.5\n",
            "Sphinx                           5.0.2\n",
            "sphinxcontrib-applehelp          1.0.8\n",
            "sphinxcontrib-devhelp            1.0.6\n",
            "sphinxcontrib-htmlhelp           2.0.5\n",
            "sphinxcontrib-jsmath             1.0.1\n",
            "sphinxcontrib-qthelp             1.0.7\n",
            "sphinxcontrib-serializinghtml    1.1.10\n",
            "SQLAlchemy                       2.0.30\n",
            "sqlglot                          20.11.0\n",
            "sqlparse                         0.5.0\n",
            "srsly                            2.4.8\n",
            "stanio                           0.5.0\n",
            "statsmodels                      0.14.2\n",
            "StrEnum                          0.4.15\n",
            "sympy                            1.12\n",
            "tables                           3.8.0\n",
            "tabulate                         0.9.0\n",
            "tbb                              2021.12.0\n",
            "tblib                            3.0.0\n",
            "tenacity                         8.3.0\n",
            "tensorboard                      2.15.2\n",
            "tensorboard-data-server          0.7.2\n",
            "tensorflow                       2.15.0\n",
            "tensorflow-datasets              4.9.4\n",
            "tensorflow-estimator             2.15.0\n",
            "tensorflow-gcs-config            2.15.0\n",
            "tensorflow-hub                   0.16.1\n",
            "tensorflow-io-gcs-filesystem     0.37.0\n",
            "tensorflow-metadata              1.15.0\n",
            "tensorflow-probability           0.23.0\n",
            "tensorstore                      0.1.45\n",
            "termcolor                        2.4.0\n",
            "terminado                        0.18.1\n",
            "text-unidecode                   1.3\n",
            "textblob                         0.17.1\n",
            "tf_keras                         2.15.1\n",
            "tf-slim                          1.1.0\n",
            "thinc                            8.2.3\n",
            "threadpoolctl                    3.5.0\n",
            "tifffile                         2024.5.3\n",
            "tinycss2                         1.3.0\n",
            "tokenizers                       0.19.1\n",
            "toml                             0.10.2\n",
            "tomli                            2.0.1\n",
            "toolz                            0.12.1\n",
            "torch                            2.2.1+cu121\n",
            "torchaudio                       2.2.1+cu121\n",
            "torchdata                        0.7.1\n",
            "torchsummary                     1.5.1\n",
            "torchtext                        0.17.1\n",
            "torchvision                      0.17.1+cu121\n",
            "tornado                          6.3.3\n",
            "tqdm                             4.66.4\n",
            "traitlets                        5.7.1\n",
            "traittypes                       0.2.1\n",
            "transformers                     4.40.2\n",
            "triton                           2.2.0\n",
            "tweepy                           4.14.0\n",
            "typer                            0.9.4\n",
            "types-pytz                       2024.1.0.20240417\n",
            "types-setuptools                 69.5.0.20240423\n",
            "typing_extensions                4.11.0\n",
            "tzdata                           2024.1\n",
            "tzlocal                          5.2\n",
            "uc-micro-py                      1.0.3\n",
            "uritemplate                      4.1.1\n",
            "urllib3                          2.0.7\n",
            "vega-datasets                    0.9.0\n",
            "wadllib                          1.3.6\n",
            "wasabi                           1.1.2\n",
            "wcwidth                          0.2.13\n",
            "weasel                           0.3.4\n",
            "webcolors                        1.13\n",
            "webencodings                     0.5.1\n",
            "websocket-client                 1.8.0\n",
            "Werkzeug                         3.0.3\n",
            "wheel                            0.43.0\n",
            "widgetsnbextension               3.6.6\n",
            "wordcloud                        1.9.3\n",
            "wrapt                            1.14.1\n",
            "xarray                           2023.7.0\n",
            "xarray-einstats                  0.7.0\n",
            "xgboost                          2.0.3\n",
            "xlrd                             2.0.1\n",
            "xyzservices                      2024.4.0\n",
            "yarl                             1.9.4\n",
            "yellowbrick                      1.5\n",
            "yfinance                         0.2.38\n",
            "zict                             3.0.0\n",
            "zipp                             3.18.1\n"
          ]
        }
      ],
      "source": [
        "# Import pandas package and refer to it as pd\n",
        "import pandas as pd\n",
        "\n",
        "# Check version of pandas installed\n",
        "print(pd.__version__)\n",
        "\n",
        "# and libraries installed in Colab (pip = Python Installer Package)\n",
        "\n",
        "!pip freeze | grep pandas\n",
        "\n",
        "!pip list"
      ]
    },
    {
      "cell_type": "code",
      "source": [
        "# Create a simple series from a list:\n",
        "\n",
        "a = [1, 7, 2]\n",
        "myvar = pd.Series(a)\n",
        "print(myvar)"
      ],
      "metadata": {
        "colab": {
          "base_uri": "https://localhost:8080/"
        },
        "id": "pp5ii9oPaeoC",
        "outputId": "e46877f2-2c9d-4dda-e130-f2d2e082038b"
      },
      "execution_count": null,
      "outputs": [
        {
          "output_type": "stream",
          "name": "stdout",
          "text": [
            "0    1\n",
            "1    7\n",
            "2    2\n",
            "dtype: int64\n"
          ]
        }
      ]
    },
    {
      "cell_type": "code",
      "source": [
        "# Return first value of a series\n",
        "print(myvar[0])"
      ],
      "metadata": {
        "colab": {
          "base_uri": "https://localhost:8080/"
        },
        "id": "fdgooQQqcQba",
        "outputId": "dd386297-ff47-4e20-b6b3-7050a63f4fd0"
      },
      "execution_count": null,
      "outputs": [
        {
          "output_type": "stream",
          "name": "stdout",
          "text": [
            "1\n"
          ]
        }
      ]
    },
    {
      "cell_type": "code",
      "source": [
        "# Create a label\n",
        "myvar = pd.Series(a, index = [\"x\", \"y\", \"z\"])\n",
        "print(myvar)\n",
        "\n",
        "print(myvar[\"y\"])"
      ],
      "metadata": {
        "colab": {
          "base_uri": "https://localhost:8080/"
        },
        "id": "hEHOEnWxclmc",
        "outputId": "ce41be73-e0c7-4222-ef71-75f8d48ae64b"
      },
      "execution_count": null,
      "outputs": [
        {
          "output_type": "stream",
          "name": "stdout",
          "text": [
            "x    1\n",
            "y    7\n",
            "z    2\n",
            "dtype: int64\n",
            "7\n"
          ]
        }
      ]
    },
    {
      "cell_type": "code",
      "source": [
        "# Using keys/values (like dictionary)\n",
        "calories = {\"day1\": 420, \"day2\": 380, \"day3\": 390}\n",
        "myvar = pd.Series(calories)\n",
        "print(myvar)"
      ],
      "metadata": {
        "colab": {
          "base_uri": "https://localhost:8080/"
        },
        "id": "fw8DnKjofKVi",
        "outputId": "ad429fcc-7440-4eef-a8ad-94b1f902f44f"
      },
      "execution_count": null,
      "outputs": [
        {
          "output_type": "stream",
          "name": "stdout",
          "text": [
            "day1    420\n",
            "day2    380\n",
            "day3    390\n",
            "dtype: int64\n"
          ]
        }
      ]
    },
    {
      "cell_type": "code",
      "source": [
        "#Use index for specific items\n",
        "myvar = pd.Series(calories, index = [\"day1\", \"day2\"])\n",
        "print(myvar)"
      ],
      "metadata": {
        "colab": {
          "base_uri": "https://localhost:8080/"
        },
        "id": "hHRzeI2ifp9j",
        "outputId": "3f520ac0-6a00-40f5-c7e2-e0828229b88e"
      },
      "execution_count": null,
      "outputs": [
        {
          "output_type": "stream",
          "name": "stdout",
          "text": [
            "day1    420\n",
            "day2    380\n",
            "dtype: int64\n"
          ]
        }
      ]
    },
    {
      "cell_type": "markdown",
      "source": [
        "**DataFrames**"
      ],
      "metadata": {
        "id": "XGL0HWoHwnzB"
      }
    },
    {
      "cell_type": "code",
      "source": [
        "# load data into a DataFrame object:\n",
        "\n",
        "data = {\n",
        "    \"calories\": [420, 380, 390],\n",
        "    \"duration\": [50, 40, 45]\n",
        "}\n",
        "\n",
        "df = pd.DataFrame(data)\n",
        "print(df)"
      ],
      "metadata": {
        "colab": {
          "base_uri": "https://localhost:8080/"
        },
        "id": "NAfq56zBwqif",
        "outputId": "04716e1e-a074-4fe8-bb40-a5f42ba781f6"
      },
      "execution_count": null,
      "outputs": [
        {
          "output_type": "stream",
          "name": "stdout",
          "text": [
            "   calories  duration\n",
            "0       420        50\n",
            "1       380        40\n",
            "2       390        45\n"
          ]
        }
      ]
    },
    {
      "cell_type": "code",
      "source": [
        "# To display results as a DataFrame (table) using double [] brackets [[]]\n",
        "print(df.loc[[0,1,2]])"
      ],
      "metadata": {
        "colab": {
          "base_uri": "https://localhost:8080/"
        },
        "id": "v5H0mbJ1x6ic",
        "outputId": "a398bd6d-de80-4818-b4c3-62dc1e9352ec"
      },
      "execution_count": null,
      "outputs": [
        {
          "output_type": "stream",
          "name": "stdout",
          "text": [
            "   calories  duration\n",
            "0       420        50\n",
            "1       380        40\n",
            "2       390        45\n"
          ]
        }
      ]
    },
    {
      "cell_type": "code",
      "source": [
        "print(df.calories)"
      ],
      "metadata": {
        "colab": {
          "base_uri": "https://localhost:8080/"
        },
        "id": "_JtUl3hvyyy_",
        "outputId": "148aee30-d451-42d7-bbbe-ce759c02897d"
      },
      "execution_count": null,
      "outputs": [
        {
          "output_type": "stream",
          "name": "stdout",
          "text": [
            "0    420\n",
            "1    380\n",
            "2    390\n",
            "Name: calories, dtype: int64\n"
          ]
        }
      ]
    },
    {
      "cell_type": "code",
      "source": [
        "# loc is label-based\n",
        "# iloc is position-based\n",
        "\n",
        "print(df.loc[[2]])"
      ],
      "metadata": {
        "colab": {
          "base_uri": "https://localhost:8080/"
        },
        "id": "3pUm8PAwzBk_",
        "outputId": "6207c62a-17f7-419d-818c-c795bb68f465"
      },
      "execution_count": null,
      "outputs": [
        {
          "output_type": "stream",
          "name": "stdout",
          "text": [
            "   calories  duration\n",
            "2       390        45\n"
          ]
        }
      ]
    },
    {
      "cell_type": "markdown",
      "source": [
        "# Day 2\n",
        "\n",
        "---\n",
        "\n"
      ],
      "metadata": {
        "id": "KAb8uUckIKHc"
      }
    },
    {
      "cell_type": "markdown",
      "source": [
        "**Importing files**"
      ],
      "metadata": {
        "id": "LPt3vkmjKkd_"
      }
    },
    {
      "cell_type": "code",
      "source": [
        "# Mounting/linking Google drive\n",
        "from google.colab import drive\n",
        "drive.mount('/content/drive')"
      ],
      "metadata": {
        "colab": {
          "base_uri": "https://localhost:8080/"
        },
        "id": "DeBo-BOkIOni",
        "outputId": "e4fdfbe7-264f-4c63-91d1-9d1252b2096a"
      },
      "execution_count": null,
      "outputs": [
        {
          "output_type": "stream",
          "name": "stdout",
          "text": [
            "Mounted at /content/drive\n"
          ]
        }
      ]
    },
    {
      "cell_type": "code",
      "source": [
        "# Import os module\n",
        "import os"
      ],
      "metadata": {
        "id": "fVH7D-tCJI8p"
      },
      "execution_count": null,
      "outputs": []
    },
    {
      "cell_type": "code",
      "source": [
        "# List everything in the root of your Google Drive\n",
        "file_list = os.listdir('/content/drive/My Drive/Data Bootcamp/Pandas/wk10_pandas_learner')\n",
        "df = pd.DataFrame(file_list, columns=['File Name'])\n",
        "print(df)"
      ],
      "metadata": {
        "colab": {
          "base_uri": "https://localhost:8080/"
        },
        "id": "vVZIGMlRJQ2r",
        "outputId": "ec6bda9f-1cdd-4555-c22f-a64f409a53e1"
      },
      "execution_count": null,
      "outputs": [
        {
          "output_type": "stream",
          "name": "stdout",
          "text": [
            "                                            File Name\n",
            "0                              06_Cleaning_Data.ipynb\n",
            "1   Flight_Delays_data_analysis_pandas_script-Lear...\n",
            "2                   07_Correlation_and_Plotting.ipynb\n",
            "3                    05-Pandas - Analyzing Data.ipynb\n",
            "4                               02_Panda_Series.ipynb\n",
            "5                           03-Pandas DataFrame.ipynb\n",
            "6                       Panda Flight delay Notes.docx\n",
            "7              04-Pandas reading Files CSV JSON.ipynb\n",
            "8           01-Pandas Intro and Getting Started.ipynb\n",
            "9                                            DataCamp\n",
            "10                                          Resources\n",
            "11         JustIT- Python_dataAnalysis_week10-Learner\n"
          ]
        }
      ]
    },
    {
      "cell_type": "markdown",
      "source": [
        "**Read CSV**"
      ],
      "metadata": {
        "id": "ceP19LPgMGIK"
      }
    },
    {
      "cell_type": "code",
      "source": [
        "import pandas as pd\n",
        "\n",
        "# Replace 'path/to/homelessness.csv' with the path to your CSV file\n",
        "df = pd.read_csv('/content/drive/My Drive/Data Bootcamp/Pandas/wk10_pandas_learner/Resources/homelessness.csv', index_col = 0)\n",
        "\n",
        "# Print the first 5 rows of the DataFrame\n",
        "print(df.head())\n"
      ],
      "metadata": {
        "colab": {
          "base_uri": "https://localhost:8080/"
        },
        "id": "LhsVlHT8KxmA",
        "outputId": "e102e50b-52d6-4354-ba4d-9a5421e4b545"
      },
      "execution_count": null,
      "outputs": [
        {
          "output_type": "stream",
          "name": "stdout",
          "text": [
            "               region       state  individuals  family_members  state_pop\n",
            "0  East South Central     Alabama       2570.0           864.0    4887681\n",
            "1             Pacific      Alaska       1434.0           582.0     735139\n",
            "2            Mountain     Arizona       7259.0          2606.0    7158024\n",
            "3  West South Central    Arkansas       2280.0           432.0    3009733\n",
            "4             Pacific  California     109008.0         20964.0   39461588\n"
          ]
        }
      ]
    },
    {
      "cell_type": "markdown",
      "source": [
        "**Read JSON**"
      ],
      "metadata": {
        "id": "x5F_KozQMJF0"
      }
    },
    {
      "cell_type": "markdown",
      "source": [
        "JSON = Python Dictionary"
      ],
      "metadata": {
        "id": "4mLqJuN7NSRe"
      }
    },
    {
      "cell_type": "code",
      "source": [
        "df = pd.read_json('/content/drive/MyDrive/Data Bootcamp/Pandas/wk10_pandas_learner/Resources/data.js')\n",
        "# to_string() prints the whole DataFrame\n",
        "print(df.to_string())"
      ],
      "metadata": {
        "id": "NqsBXK9FMTY-",
        "colab": {
          "base_uri": "https://localhost:8080/"
        },
        "outputId": "b24d945b-3b16-4f69-db76-88d5e85c946c"
      },
      "execution_count": null,
      "outputs": [
        {
          "output_type": "stream",
          "name": "stdout",
          "text": [
            "     Duration  Pulse  Maxpulse  Calories\n",
            "0          60    110       130     409.1\n",
            "1          60    117       145     479.0\n",
            "2          60    103       135     340.0\n",
            "3          45    109       175     282.4\n",
            "4          45    117       148     406.0\n",
            "5          60    102       127     300.5\n",
            "6          60    110       136     374.0\n",
            "7          45    104       134     253.3\n",
            "8          30    109       133     195.1\n",
            "9          60     98       124     269.0\n",
            "10         60    103       147     329.3\n",
            "11         60    100       120     250.7\n",
            "12         60    106       128     345.3\n",
            "13         60    104       132     379.3\n",
            "14         60     98       123     275.0\n",
            "15         60     98       120     215.2\n",
            "16         60    100       120     300.0\n",
            "17         45     90       112       NaN\n",
            "18         60    103       123     323.0\n",
            "19         45     97       125     243.0\n",
            "20         60    108       131     364.2\n",
            "21         45    100       119     282.0\n",
            "22         60    130       101     300.0\n",
            "23         45    105       132     246.0\n",
            "24         60    102       126     334.5\n",
            "25         60    100       120     250.0\n",
            "26         60     92       118     241.0\n",
            "27         60    103       132       NaN\n",
            "28         60    100       132     280.0\n",
            "29         60    102       129     380.3\n",
            "30         60     92       115     243.0\n",
            "31         45     90       112     180.1\n",
            "32         60    101       124     299.0\n",
            "33         60     93       113     223.0\n",
            "34         60    107       136     361.0\n",
            "35         60    114       140     415.0\n",
            "36         60    102       127     300.5\n",
            "37         60    100       120     300.1\n",
            "38         60    100       120     300.0\n",
            "39         45    104       129     266.0\n",
            "40         45     90       112     180.1\n",
            "41         60     98       126     286.0\n",
            "42         60    100       122     329.4\n",
            "43         60    111       138     400.0\n",
            "44         60    111       131     397.0\n",
            "45         60     99       119     273.0\n",
            "46         60    109       153     387.6\n",
            "47         45    111       136     300.0\n",
            "48         45    108       129     298.0\n",
            "49         60    111       139     397.6\n",
            "50         60    107       136     380.2\n",
            "51         80    123       146     643.1\n",
            "52         60    106       130     263.0\n",
            "53         60    118       151     486.0\n",
            "54         30    136       175     238.0\n",
            "55         60    121       146     450.7\n",
            "56         60    118       121     413.0\n",
            "57         45    115       144     305.0\n",
            "58         20    153       172     226.4\n",
            "59         45    123       152     321.0\n",
            "60        210    108       160    1376.0\n",
            "61        160    110       137    1034.4\n",
            "62        160    109       135     853.0\n",
            "63         45    118       141     341.0\n",
            "64         20    110       130     131.4\n",
            "65        180     90       130     800.4\n",
            "66        150    105       135     873.4\n",
            "67        150    107       130     816.0\n",
            "68         20    106       136     110.4\n",
            "69        300    108       143    1500.2\n",
            "70        150     97       129    1115.0\n",
            "71         60    109       153     387.6\n",
            "72         90    100       127     700.0\n",
            "73        150     97       127     953.2\n",
            "74         45    114       146     304.0\n",
            "75         90     98       125     563.2\n",
            "76         45    105       134     251.0\n",
            "77         45    110       141     300.0\n",
            "78        120    100       130     500.4\n",
            "79        270    100       131    1729.0\n",
            "80         30    159       182     319.2\n",
            "81         45    149       169     344.0\n",
            "82         30    103       139     151.1\n",
            "83        120    100       130     500.0\n",
            "84         45    100       120     225.3\n",
            "85         30    151       170     300.1\n",
            "86         45    102       136     234.0\n",
            "87        120    100       157    1000.1\n",
            "88         45    129       103     242.0\n",
            "89         20     83       107      50.3\n",
            "90        180    101       127     600.1\n",
            "91         45    107       137       NaN\n",
            "92         30     90       107     105.3\n",
            "93         15     80       100      50.5\n",
            "94         20    150       171     127.4\n",
            "95         20    151       168     229.4\n",
            "96         30     95       128     128.2\n",
            "97         25    152       168     244.2\n",
            "98         30    109       131     188.2\n",
            "99         90     93       124     604.1\n",
            "100        20     95       112      77.7\n",
            "101        90     90       110     500.0\n",
            "102        90     90       100     500.0\n",
            "103        90     90       100     500.4\n",
            "104        30     92       108      92.7\n",
            "105        30     93       128     124.0\n",
            "106       180     90       120     800.3\n",
            "107        30     90       120      86.2\n",
            "108        90     90       120     500.3\n",
            "109       210    137       184    1860.4\n",
            "110        60    102       124     325.2\n",
            "111        45    107       124     275.0\n",
            "112        15    124       139     124.2\n",
            "113        45    100       120     225.3\n",
            "114        60    108       131     367.6\n",
            "115        60    108       151     351.7\n",
            "116        60    116       141     443.0\n",
            "117        60     97       122     277.4\n",
            "118        60    105       125       NaN\n",
            "119        60    103       124     332.7\n",
            "120        30    112       137     193.9\n",
            "121        45    100       120     100.7\n",
            "122        60    119       169     336.7\n",
            "123        60    107       127     344.9\n",
            "124        60    111       151     368.5\n",
            "125        60     98       122     271.0\n",
            "126        60     97       124     275.3\n",
            "127        60    109       127     382.0\n",
            "128        90     99       125     466.4\n",
            "129        60    114       151     384.0\n",
            "130        60    104       134     342.5\n",
            "131        60    107       138     357.5\n",
            "132        60    103       133     335.0\n",
            "133        60    106       132     327.5\n",
            "134        60    103       136     339.0\n",
            "135        20    136       156     189.0\n",
            "136        45    117       143     317.7\n",
            "137        45    115       137     318.0\n",
            "138        45    113       138     308.0\n",
            "139        20    141       162     222.4\n",
            "140        60    108       135     390.0\n",
            "141        60     97       127       NaN\n",
            "142        45    100       120     250.4\n",
            "143        45    122       149     335.4\n",
            "144        60    136       170     470.2\n",
            "145        45    106       126     270.8\n",
            "146        60    107       136     400.0\n",
            "147        60    112       146     361.9\n",
            "148        30    103       127     185.0\n",
            "149        60    110       150     409.4\n",
            "150        60    106       134     343.0\n",
            "151        60    109       129     353.2\n",
            "152        60    109       138     374.0\n",
            "153        30    150       167     275.8\n",
            "154        60    105       128     328.0\n",
            "155        60    111       151     368.5\n",
            "156        60     97       131     270.4\n",
            "157        60    100       120     270.4\n",
            "158        60    114       150     382.8\n",
            "159        30     80       120     240.9\n",
            "160        30     85       120     250.4\n",
            "161        45     90       130     260.4\n",
            "162        45     95       130     270.0\n",
            "163        45    100       140     280.9\n",
            "164        60    105       140     290.8\n",
            "165        60    110       145     300.4\n",
            "166        60    115       145     310.2\n",
            "167        75    120       150     320.4\n",
            "168        75    125       150     330.4\n"
          ]
        }
      ]
    },
    {
      "cell_type": "markdown",
      "source": [
        "# Task 1 Extension from OneNote wk10"
      ],
      "metadata": {
        "id": "XxVyIEU4OqM7"
      }
    },
    {
      "cell_type": "markdown",
      "source": [
        "![image.png](data:image/png;base64,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)"
      ],
      "metadata": {
        "id": "7EUKpT9jPC8f"
      }
    },
    {
      "cell_type": "code",
      "source": [
        "# Task 1\n",
        "df = pd.read_csv('/content/drive/MyDrive/Data Bootcamp/Pandas/wk10_pandas_learner/Resources/sales.csv')\n",
        "# Task 2 & 3\n",
        "print(df.info())"
      ],
      "metadata": {
        "colab": {
          "base_uri": "https://localhost:8080/"
        },
        "id": "cjtFOkryOx3w",
        "outputId": "4d5414f4-c469-4ee9-d6a0-880bb1ae6442"
      },
      "execution_count": null,
      "outputs": [
        {
          "output_type": "stream",
          "name": "stdout",
          "text": [
            "<class 'pandas.core.frame.DataFrame'>\n",
            "RangeIndex: 23 entries, 0 to 22\n",
            "Data columns (total 5 columns):\n",
            " #   Column        Non-Null Count  Dtype \n",
            "---  ------        --------------  ----- \n",
            " 0   Market        23 non-null     object\n",
            " 1   Region        23 non-null     object\n",
            " 2   No_of_Orders  23 non-null     int64 \n",
            " 3   Profit        23 non-null     object\n",
            " 4   Sales         23 non-null     object\n",
            "dtypes: int64(1), object(4)\n",
            "memory usage: 1.0+ KB\n",
            "None\n"
          ]
        }
      ]
    },
    {
      "cell_type": "code",
      "source": [
        "print(df.head())"
      ],
      "metadata": {
        "colab": {
          "base_uri": "https://localhost:8080/"
        },
        "id": "LJdgm0NHTjwh",
        "outputId": "f23b036d-9121-4999-dcf9-f18e82f1eca2"
      },
      "execution_count": null,
      "outputs": [
        {
          "output_type": "stream",
          "name": "stdout",
          "text": [
            "   Market           Region  No_of_Orders      Profit      Sales\n",
            "0  Africa   Western Africa           251  -12,901.51  78,476.06\n",
            "1  Africa  Southern Africa            85   11,768.58  51,319.50\n",
            "2  Africa     North Africa           182   21,643.08  86,698.89\n",
            "3  Africa   Eastern Africa           110    8,013.04  44,182.60\n",
            "4  Africa   Central Africa           103   15,606.30  61,689.99\n"
          ]
        }
      ]
    },
    {
      "cell_type": "code",
      "source": [
        "# Task 4\n",
        "new_df = df.set_index(['Market', 'Region'])\n",
        "print(new_df.head())"
      ],
      "metadata": {
        "colab": {
          "base_uri": "https://localhost:8080/"
        },
        "id": "ONzuiulGPurr",
        "outputId": "f123290e-2d9b-441e-be13-c8f4fc4d9412"
      },
      "execution_count": null,
      "outputs": [
        {
          "output_type": "stream",
          "name": "stdout",
          "text": [
            "                        No_of_Orders      Profit      Sales\n",
            "Market Region                                              \n",
            "Africa Western Africa            251  -12,901.51  78,476.06\n",
            "       Southern Africa            85   11,768.58  51,319.50\n",
            "       North Africa              182   21,643.08  86,698.89\n",
            "       Eastern Africa            110    8,013.04  44,182.60\n",
            "       Central Africa            103   15,606.30  61,689.99\n"
          ]
        }
      ]
    },
    {
      "cell_type": "code",
      "source": [
        "# Task 5\n",
        "print(df.head(3))\n",
        "print(df.tail(3))"
      ],
      "metadata": {
        "colab": {
          "base_uri": "https://localhost:8080/"
        },
        "id": "0Pza04ubUUWg",
        "outputId": "f6c1f62c-386d-4e7e-b9cf-b195a0ee5525"
      },
      "execution_count": null,
      "outputs": [
        {
          "output_type": "stream",
          "name": "stdout",
          "text": [
            "   Market           Region  No_of_Orders      Profit      Sales\n",
            "0  Africa   Western Africa           251  -12,901.51  78,476.06\n",
            "1  Africa  Southern Africa            85   11,768.58  51,319.50\n",
            "2  Africa     North Africa           182   21,643.08  86,698.89\n",
            "   Market      Region  No_of_Orders     Profit       Sales\n",
            "20   USCA  Eastern US           443  47,462.04  264,973.98\n",
            "21   USCA  Central US           356  33,697.43  170,416.31\n",
            "22   USCA      Canada            49   7,246.62   26,298.81\n"
          ]
        }
      ]
    },
    {
      "cell_type": "code",
      "source": [
        "# Task 6\n",
        "print(df.describe())"
      ],
      "metadata": {
        "colab": {
          "base_uri": "https://localhost:8080/"
        },
        "id": "xUbdj79NVbw0",
        "outputId": "d9d14f86-77d9-4bf6-b415-36408172b888"
      },
      "execution_count": null,
      "outputs": [
        {
          "output_type": "stream",
          "name": "stdout",
          "text": [
            "       No_of_Orders\n",
            "count     23.000000\n",
            "mean     366.478261\n",
            "std      246.590361\n",
            "min       37.000000\n",
            "25%      211.500000\n",
            "50%      356.000000\n",
            "75%      479.500000\n",
            "max      964.000000\n"
          ]
        }
      ]
    },
    {
      "cell_type": "code",
      "source": [
        "# Task 7\n",
        "import pandas as pd\n",
        "dataSales = pd.Series(df['Sales'])\n",
        "print(dataSales)"
      ],
      "metadata": {
        "colab": {
          "base_uri": "https://localhost:8080/"
        },
        "id": "MeJB8kbEVt9d",
        "outputId": "b94526f6-8b30-45f2-ae32-ca9bcaf4682c"
      },
      "execution_count": null,
      "outputs": [
        {
          "output_type": "stream",
          "name": "stdout",
          "text": [
            "0      78,476.06\n",
            "1      51,319.50\n",
            "2      86,698.89\n",
            "3      44,182.60\n",
            "4      61,689.99\n",
            "5     124,312.24\n",
            "6     351,806.60\n",
            "7     329,751.38\n",
            "8     408,002.98\n",
            "9     315,390.77\n",
            "10      8,190.74\n",
            "11    656,637.14\n",
            "12    215,703.93\n",
            "13    252,969.09\n",
            "14    108,258.93\n",
            "15    210,710.49\n",
            "16    461,670.28\n",
            "17    116,333.05\n",
            "18    251,991.83\n",
            "19    148,771.91\n",
            "20    264,973.98\n",
            "21    170,416.31\n",
            "22     26,298.81\n",
            "Name: Sales, dtype: object\n"
          ]
        }
      ]
    },
    {
      "cell_type": "code",
      "source": [
        "# Task 8\n",
        "new_df = pd.DataFrame({\n",
        "    'Sales': df['Sales'],\n",
        "    'Profit': df['Profit']\n",
        "})\n",
        "print(new_df)"
      ],
      "metadata": {
        "colab": {
          "base_uri": "https://localhost:8080/"
        },
        "id": "T3ocWOdNWnXB",
        "outputId": "5e21dfb6-d495-47bb-c0f2-8ed51991a92c"
      },
      "execution_count": null,
      "outputs": [
        {
          "output_type": "stream",
          "name": "stdout",
          "text": [
            "         Sales      Profit\n",
            "0    78,476.06  -12,901.51\n",
            "1    51,319.50   11,768.58\n",
            "2    86,698.89   21,643.08\n",
            "3    44,182.60    8,013.04\n",
            "4    61,689.99   15,606.30\n",
            "5   124,312.24  -16,766.90\n",
            "6   351,806.60   67,998.76\n",
            "7   329,751.38   20,948.84\n",
            "8   408,002.98   54,734.02\n",
            "9   315,390.77   72,805.10\n",
            "10    8,190.74   -2,649.76\n",
            "11  656,637.14   82,091.27\n",
            "12  215,703.93   18,911.49\n",
            "13  252,969.09   43,237.44\n",
            "14  108,258.93   25,050.69\n",
            "15  210,710.49   12,377.59\n",
            "16  461,670.28   74,679.54\n",
            "17  116,333.05   13,529.59\n",
            "18  251,991.83   44,303.65\n",
            "19  148,771.91   19,991.83\n",
            "20  264,973.98   47,462.04\n",
            "21  170,416.31   33,697.43\n",
            "22   26,298.81    7,246.62\n"
          ]
        }
      ]
    },
    {
      "cell_type": "code",
      "source": [],
      "metadata": {
        "id": "J92Tln13eecl"
      },
      "execution_count": null,
      "outputs": []
    },
    {
      "cell_type": "markdown",
      "source": [
        "# Cleaning Data"
      ],
      "metadata": {
        "id": "_Axz4NXqB_Wi"
      }
    },
    {
      "cell_type": "code",
      "source": [
        "df = pd.read_csv('/content/drive/MyDrive/Data Bootcamp/Pandas/wk10_pandas_learner/Resources/data2.csv')\n",
        "print(df.head())"
      ],
      "metadata": {
        "colab": {
          "base_uri": "https://localhost:8080/"
        },
        "id": "IGa1ImBYCDCZ",
        "outputId": "f672cc29-e772-47c7-c22f-29375e154cee"
      },
      "execution_count": null,
      "outputs": [
        {
          "output_type": "stream",
          "name": "stdout",
          "text": [
            "   Duration          Date  Pulse  Maxpulse  Calories\n",
            "0        60  '2020/12/01'    110       130     409.1\n",
            "1        60  '2020/12/02'    117       145     479.0\n",
            "2        60  '2020/12/03'    103       135     340.0\n",
            "3        45  '2020/12/04'    109       175     282.4\n",
            "4        45  '2020/12/05'    117       148     406.0\n"
          ]
        }
      ]
    },
    {
      "cell_type": "code",
      "source": [
        "print(df.to_string())"
      ],
      "metadata": {
        "colab": {
          "base_uri": "https://localhost:8080/"
        },
        "id": "oVt162kvCi3y",
        "outputId": "58b18efd-2611-4224-e67d-f7df830d0fad"
      },
      "execution_count": null,
      "outputs": [
        {
          "output_type": "stream",
          "name": "stdout",
          "text": [
            "    Duration          Date  Pulse  Maxpulse  Calories\n",
            "0         60  '2020/12/01'    110       130     409.1\n",
            "1         60  '2020/12/02'    117       145     479.0\n",
            "2         60  '2020/12/03'    103       135     340.0\n",
            "3         45  '2020/12/04'    109       175     282.4\n",
            "4         45  '2020/12/05'    117       148     406.0\n",
            "5         60  '2020/12/06'    102       127     300.0\n",
            "6         60  '2020/12/07'    110       136     374.0\n",
            "7        450  '2020/12/08'    104       134     253.3\n",
            "8         30  '2020/12/09'    109       133     195.1\n",
            "9         60  '2020/12/10'     98       124     269.0\n",
            "10        60  '2020/12/11'    103       147     329.3\n",
            "11        60  '2020/12/12'    100       120     250.7\n",
            "12        60  '2020/12/12'    100       120     250.7\n",
            "13        60  '2020/12/13'    106       128     345.3\n",
            "14        60  '2020/12/14'    104       132     379.3\n",
            "15        60  '2020/12/15'     98       123     275.0\n",
            "16        60  '2020/12/16'     98       120     215.2\n",
            "17        60  '2020/12/17'    100       120     300.0\n",
            "18        45  '2020/12/18'     90       112       NaN\n",
            "19        60  '2020/12/19'    103       123     323.0\n",
            "20        45  '2020/12/20'     97       125     243.0\n",
            "21        60  '2020/12/21'    108       131     364.2\n",
            "22        45           NaN    100       119     282.0\n",
            "23        60  '2020/12/23'    130       101     300.0\n",
            "24        45  '2020/12/24'    105       132     246.0\n",
            "25        60  '2020/12/25'    102       126     334.5\n",
            "26        60      20201226    100       120     250.0\n",
            "27        60  '2020/12/27'     92       118     241.0\n",
            "28        60  '2020/12/28'    103       132       NaN\n",
            "29        60  '2020/12/29'    100       132     280.0\n",
            "30        60  '2020/12/30'    102       129     380.3\n",
            "31        60  '2020/12/31'     92       115     243.0\n"
          ]
        }
      ]
    },
    {
      "cell_type": "code",
      "source": [
        "# Remove rows with empty cells\n",
        "new_df = df.dropna()\n",
        "print(new_df.to_string())"
      ],
      "metadata": {
        "colab": {
          "base_uri": "https://localhost:8080/"
        },
        "id": "bhmJQBAnCo2T",
        "outputId": "be4b38ad-2096-470a-8aa7-ce47737e7314"
      },
      "execution_count": null,
      "outputs": [
        {
          "output_type": "stream",
          "name": "stdout",
          "text": [
            "    Duration          Date  Pulse  Maxpulse  Calories\n",
            "0         60  '2020/12/01'    110       130     409.1\n",
            "1         60  '2020/12/02'    117       145     479.0\n",
            "2         60  '2020/12/03'    103       135     340.0\n",
            "3         45  '2020/12/04'    109       175     282.4\n",
            "4         45  '2020/12/05'    117       148     406.0\n",
            "5         60  '2020/12/06'    102       127     300.0\n",
            "6         60  '2020/12/07'    110       136     374.0\n",
            "7        450  '2020/12/08'    104       134     253.3\n",
            "8         30  '2020/12/09'    109       133     195.1\n",
            "9         60  '2020/12/10'     98       124     269.0\n",
            "10        60  '2020/12/11'    103       147     329.3\n",
            "11        60  '2020/12/12'    100       120     250.7\n",
            "12        60  '2020/12/12'    100       120     250.7\n",
            "13        60  '2020/12/13'    106       128     345.3\n",
            "14        60  '2020/12/14'    104       132     379.3\n",
            "15        60  '2020/12/15'     98       123     275.0\n",
            "16        60  '2020/12/16'     98       120     215.2\n",
            "17        60  '2020/12/17'    100       120     300.0\n",
            "19        60  '2020/12/19'    103       123     323.0\n",
            "20        45  '2020/12/20'     97       125     243.0\n",
            "21        60  '2020/12/21'    108       131     364.2\n",
            "23        60  '2020/12/23'    130       101     300.0\n",
            "24        45  '2020/12/24'    105       132     246.0\n",
            "25        60  '2020/12/25'    102       126     334.5\n",
            "26        60      20201226    100       120     250.0\n",
            "27        60  '2020/12/27'     92       118     241.0\n",
            "29        60  '2020/12/29'    100       132     280.0\n",
            "30        60  '2020/12/30'    102       129     380.3\n",
            "31        60  '2020/12/31'     92       115     243.0\n"
          ]
        }
      ]
    },
    {
      "cell_type": "code",
      "source": [
        "# Or use this to keep existing df\n",
        "df.dropna(inplace = True)\n",
        "# alternatively use fillna() to replace empty cells with a value\n",
        "# e.g. df.fillna(130, inplace = True)\n",
        "# To do this with a column ONLY do:\n",
        "# df[\"Calories\"].fillna(130, inplace = True)\n",
        "\n",
        "print(df.to_string())"
      ],
      "metadata": {
        "colab": {
          "base_uri": "https://localhost:8080/"
        },
        "id": "V4COzo9GC2xh",
        "outputId": "a637f01e-968b-4f6d-eb79-6f399af9b533"
      },
      "execution_count": null,
      "outputs": [
        {
          "output_type": "stream",
          "name": "stdout",
          "text": [
            "    Duration          Date  Pulse  Maxpulse  Calories\n",
            "0         60  '2020/12/01'    110       130     409.1\n",
            "1         60  '2020/12/02'    117       145     479.0\n",
            "2         60  '2020/12/03'    103       135     340.0\n",
            "3         45  '2020/12/04'    109       175     282.4\n",
            "4         45  '2020/12/05'    117       148     406.0\n",
            "5         60  '2020/12/06'    102       127     300.0\n",
            "6         60  '2020/12/07'    110       136     374.0\n",
            "7        450  '2020/12/08'    104       134     253.3\n",
            "8         30  '2020/12/09'    109       133     195.1\n",
            "9         60  '2020/12/10'     98       124     269.0\n",
            "10        60  '2020/12/11'    103       147     329.3\n",
            "11        60  '2020/12/12'    100       120     250.7\n",
            "12        60  '2020/12/12'    100       120     250.7\n",
            "13        60  '2020/12/13'    106       128     345.3\n",
            "14        60  '2020/12/14'    104       132     379.3\n",
            "15        60  '2020/12/15'     98       123     275.0\n",
            "16        60  '2020/12/16'     98       120     215.2\n",
            "17        60  '2020/12/17'    100       120     300.0\n",
            "19        60  '2020/12/19'    103       123     323.0\n",
            "20        45  '2020/12/20'     97       125     243.0\n",
            "21        60  '2020/12/21'    108       131     364.2\n",
            "23        60  '2020/12/23'    130       101     300.0\n",
            "24        45  '2020/12/24'    105       132     246.0\n",
            "25        60  '2020/12/25'    102       126     334.5\n",
            "26        60      20201226    100       120     250.0\n",
            "27        60  '2020/12/27'     92       118     241.0\n",
            "29        60  '2020/12/29'    100       132     280.0\n",
            "30        60  '2020/12/30'    102       129     380.3\n",
            "31        60  '2020/12/31'     92       115     243.0\n"
          ]
        }
      ]
    },
    {
      "cell_type": "code",
      "source": [
        "import pandas as pd\n",
        "\n",
        "df = pd.read_csv('/content/drive/MyDrive/Data Bootcamp/Pandas/wk10_pandas_learner/Resources/data2.csv')\n",
        "\n",
        "df[\"Calories\"].fillna(130, inplace = True)\n",
        "\n",
        "print(df.to_string())"
      ],
      "metadata": {
        "colab": {
          "base_uri": "https://localhost:8080/"
        },
        "id": "xLFW6MEODxbK",
        "outputId": "835b378a-a6e2-4524-b5c4-dd7187239dae"
      },
      "execution_count": null,
      "outputs": [
        {
          "output_type": "stream",
          "name": "stdout",
          "text": [
            "    Duration          Date  Pulse  Maxpulse  Calories\n",
            "0         60  '2020/12/01'    110       130     409.1\n",
            "1         60  '2020/12/02'    117       145     479.0\n",
            "2         60  '2020/12/03'    103       135     340.0\n",
            "3         45  '2020/12/04'    109       175     282.4\n",
            "4         45  '2020/12/05'    117       148     406.0\n",
            "5         60  '2020/12/06'    102       127     300.0\n",
            "6         60  '2020/12/07'    110       136     374.0\n",
            "7        450  '2020/12/08'    104       134     253.3\n",
            "8         30  '2020/12/09'    109       133     195.1\n",
            "9         60  '2020/12/10'     98       124     269.0\n",
            "10        60  '2020/12/11'    103       147     329.3\n",
            "11        60  '2020/12/12'    100       120     250.7\n",
            "12        60  '2020/12/12'    100       120     250.7\n",
            "13        60  '2020/12/13'    106       128     345.3\n",
            "14        60  '2020/12/14'    104       132     379.3\n",
            "15        60  '2020/12/15'     98       123     275.0\n",
            "16        60  '2020/12/16'     98       120     215.2\n",
            "17        60  '2020/12/17'    100       120     300.0\n",
            "18        45  '2020/12/18'     90       112     130.0\n",
            "19        60  '2020/12/19'    103       123     323.0\n",
            "20        45  '2020/12/20'     97       125     243.0\n",
            "21        60  '2020/12/21'    108       131     364.2\n",
            "22        45           NaN    100       119     282.0\n",
            "23        60  '2020/12/23'    130       101     300.0\n",
            "24        45  '2020/12/24'    105       132     246.0\n",
            "25        60  '2020/12/25'    102       126     334.5\n",
            "26        60      20201226    100       120     250.0\n",
            "27        60  '2020/12/27'     92       118     241.0\n",
            "28        60  '2020/12/28'    103       132     130.0\n",
            "29        60  '2020/12/29'    100       132     280.0\n",
            "30        60  '2020/12/30'    102       129     380.3\n",
            "31        60  '2020/12/31'     92       115     243.0\n"
          ]
        }
      ]
    },
    {
      "cell_type": "code",
      "source": [
        "# Change the empty values in Date column using fillna() method\n",
        "df = pd.read_csv('/content/drive/MyDrive/Data Bootcamp/Pandas/wk10_pandas_learner/Resources/data2.csv')\n",
        "df[\"Date\"].fillna('2020/12/22', inplace = True)\n",
        "print(df.to_string())"
      ],
      "metadata": {
        "colab": {
          "base_uri": "https://localhost:8080/"
        },
        "id": "zagDEenHEAk2",
        "outputId": "faca6027-ac92-42b2-8271-b2637c4f88a6"
      },
      "execution_count": null,
      "outputs": [
        {
          "output_type": "stream",
          "name": "stdout",
          "text": [
            "    Duration          Date  Pulse  Maxpulse  Calories\n",
            "0         60  '2020/12/01'    110       130     409.1\n",
            "1         60  '2020/12/02'    117       145     479.0\n",
            "2         60  '2020/12/03'    103       135     340.0\n",
            "3         45  '2020/12/04'    109       175     282.4\n",
            "4         45  '2020/12/05'    117       148     406.0\n",
            "5         60  '2020/12/06'    102       127     300.0\n",
            "6         60  '2020/12/07'    110       136     374.0\n",
            "7        450  '2020/12/08'    104       134     253.3\n",
            "8         30  '2020/12/09'    109       133     195.1\n",
            "9         60  '2020/12/10'     98       124     269.0\n",
            "10        60  '2020/12/11'    103       147     329.3\n",
            "11        60  '2020/12/12'    100       120     250.7\n",
            "12        60  '2020/12/12'    100       120     250.7\n",
            "13        60  '2020/12/13'    106       128     345.3\n",
            "14        60  '2020/12/14'    104       132     379.3\n",
            "15        60  '2020/12/15'     98       123     275.0\n",
            "16        60  '2020/12/16'     98       120     215.2\n",
            "17        60  '2020/12/17'    100       120     300.0\n",
            "18        45  '2020/12/18'     90       112       NaN\n",
            "19        60  '2020/12/19'    103       123     323.0\n",
            "20        45  '2020/12/20'     97       125     243.0\n",
            "21        60  '2020/12/21'    108       131     364.2\n",
            "22        45    2020/12/22    100       119     282.0\n",
            "23        60  '2020/12/23'    130       101     300.0\n",
            "24        45  '2020/12/24'    105       132     246.0\n",
            "25        60  '2020/12/25'    102       126     334.5\n",
            "26        60      20201226    100       120     250.0\n",
            "27        60  '2020/12/27'     92       118     241.0\n",
            "28        60  '2020/12/28'    103       132       NaN\n",
            "29        60  '2020/12/29'    100       132     280.0\n",
            "30        60  '2020/12/30'    102       129     380.3\n",
            "31        60  '2020/12/31'     92       115     243.0\n"
          ]
        }
      ]
    },
    {
      "cell_type": "code",
      "source": [
        "average_cals = df[\"Calories\"].mean()\n",
        "# or the Median - swap .mean with .median\n",
        "# or Mode (what value appears most frequently)\n",
        "# .mode()[0] - 0 returns first mode\n",
        "print(average_cals)"
      ],
      "metadata": {
        "colab": {
          "base_uri": "https://localhost:8080/"
        },
        "id": "SJ4vYtHIFP4r",
        "outputId": "88b92f2b-d75b-4c2b-854b-05e5c85a7094"
      },
      "execution_count": null,
      "outputs": [
        {
          "output_type": "stream",
          "name": "stdout",
          "text": [
            "304.68\n"
          ]
        }
      ]
    },
    {
      "cell_type": "code",
      "source": [
        "# Fill missing calories with the average\n",
        "df[\"Calories\"].fillna(average_cals, inplace=True)\n",
        "\n",
        "print(df.to_string())"
      ],
      "metadata": {
        "colab": {
          "base_uri": "https://localhost:8080/"
        },
        "id": "vzun6iGkFePo",
        "outputId": "e7362871-97bc-4c68-ea3f-e7db03ab4a89"
      },
      "execution_count": null,
      "outputs": [
        {
          "output_type": "stream",
          "name": "stdout",
          "text": [
            "    Duration       Date  Pulse  Maxpulse  Calories\n",
            "0         60 2020-12-01    110       130    409.10\n",
            "1         60 2020-12-02    117       145    479.00\n",
            "2         60 2020-12-03    103       135    340.00\n",
            "3         45 2020-12-04    109       175    282.40\n",
            "4         45 2020-12-05    117       148    406.00\n",
            "5         60 2020-12-06    102       127    300.00\n",
            "6         60 2020-12-07    110       136    374.00\n",
            "7        450 2020-12-08    104       134    253.30\n",
            "8         30 2020-12-09    109       133    195.10\n",
            "9         60 2020-12-10     98       124    269.00\n",
            "10        60 2020-12-11    103       147    329.30\n",
            "11        60 2020-12-12    100       120    250.70\n",
            "12        60 2020-12-12    100       120    250.70\n",
            "13        60 2020-12-13    106       128    345.30\n",
            "14        60 2020-12-14    104       132    379.30\n",
            "15        60 2020-12-15     98       123    275.00\n",
            "16        60 2020-12-16     98       120    215.20\n",
            "17        60 2020-12-17    100       120    300.00\n",
            "18        45 2020-12-18     90       112    304.68\n",
            "19        60 2020-12-19    103       123    323.00\n",
            "20        45 2020-12-20     97       125    243.00\n",
            "21        60 2020-12-21    108       131    364.20\n",
            "22        45 2020-12-22    100       119    282.00\n",
            "23        60 2020-12-23    130       101    300.00\n",
            "24        45 2020-12-24    105       132    246.00\n",
            "25        60 2020-12-25    102       126    334.50\n",
            "26        60 2020-12-26    100       120    250.00\n",
            "27        60 2020-12-27     92       118    241.00\n",
            "28        60 2020-12-28    103       132    304.68\n",
            "29        60 2020-12-29    100       132    280.00\n",
            "30        60 2020-12-30    102       129    380.30\n",
            "31        60 2020-12-31     92       115    243.00\n"
          ]
        }
      ]
    },
    {
      "cell_type": "code",
      "source": [
        "df.at[22,'Date'] = '2020/12/22'\n",
        "print(df.to_string)"
      ],
      "metadata": {
        "colab": {
          "base_uri": "https://localhost:8080/"
        },
        "id": "8v0WjjOIN4b6",
        "outputId": "65659add-073b-45cb-e9db-fdec443ac36e"
      },
      "execution_count": null,
      "outputs": [
        {
          "output_type": "stream",
          "name": "stdout",
          "text": [
            "<bound method DataFrame.to_string of     Duration       Date  Pulse  Maxpulse  Calories\n",
            "0         60 2020-12-01    110       130    409.10\n",
            "1         60 2020-12-02    117       145    479.00\n",
            "2         60 2020-12-03    103       135    340.00\n",
            "3         45 2020-12-04    109       175    282.40\n",
            "4         45 2020-12-05    117       148    406.00\n",
            "5         60 2020-12-06    102       127    300.00\n",
            "6         60 2020-12-07    110       136    374.00\n",
            "7        450 2020-12-08    104       134    253.30\n",
            "8         30 2020-12-09    109       133    195.10\n",
            "9         60 2020-12-10     98       124    269.00\n",
            "10        60 2020-12-11    103       147    329.30\n",
            "11        60 2020-12-12    100       120    250.70\n",
            "12        60 2020-12-12    100       120    250.70\n",
            "13        60 2020-12-13    106       128    345.30\n",
            "14        60 2020-12-14    104       132    379.30\n",
            "15        60 2020-12-15     98       123    275.00\n",
            "16        60 2020-12-16     98       120    215.20\n",
            "17        60 2020-12-17    100       120    300.00\n",
            "18        45 2020-12-18     90       112    304.68\n",
            "19        60 2020-12-19    103       123    323.00\n",
            "20        45 2020-12-20     97       125    243.00\n",
            "21        60 2020-12-21    108       131    364.20\n",
            "22        45 2020-12-22    100       119    282.00\n",
            "23        60 2020-12-23    130       101    300.00\n",
            "24        45 2020-12-24    105       132    246.00\n",
            "25        60 2020-12-25    102       126    334.50\n",
            "26        60 2020-12-26    100       120    250.00\n",
            "27        60 2020-12-27     92       118    241.00\n",
            "28        60 2020-12-28    103       132    304.68\n",
            "29        60 2020-12-29    100       132    280.00\n",
            "30        60 2020-12-30    102       129    380.30\n",
            "31        60 2020-12-31     92       115    243.00>\n"
          ]
        }
      ]
    },
    {
      "cell_type": "code",
      "source": [
        "# Fix date column\n",
        "# Convert date column to datetime format\n",
        "df = pd.read_csv('/content/drive/MyDrive/Data Bootcamp/Pandas/wk10_pandas_learner/Resources/data2.csv')\n",
        "\n",
        "# Remove the single quotes and slashes from the date strings\n",
        "df['Date'] = df['Date'].str.replace('/', '').str.replace(\"'\", '')\n",
        "\n",
        "# Convert the 'Date' column to datetime type\n",
        "# Assuming the original format is 'yyyyMMdd' after removing slashes and single quotes\n",
        "df['Date'] = pd.to_datetime(df['Date'], format='%Y%m%d')\n",
        "\n",
        "# Replace the NaN values with '2020/12/01'\n",
        "# Make sure the replacement date is in the same format 'yyyyMMdd'\n",
        "df['Date'] = df['Date'].fillna(pd.to_datetime('20201201', format='%Y%m%d'))\n",
        "\n",
        "# Format the 'Date' column to 'yyyy/mm/dd'\n",
        "df['Date'] = df['Date'].dt.strftime('%Y/%m/%d')\n",
        "\n",
        "print(df.to_string())\n",
        "df.info()"
      ],
      "metadata": {
        "colab": {
          "base_uri": "https://localhost:8080/"
        },
        "id": "kF5l9aQWG9Rw",
        "outputId": "58946048-3946-4fdd-b8d2-8daf3df90781"
      },
      "execution_count": null,
      "outputs": [
        {
          "output_type": "stream",
          "name": "stdout",
          "text": [
            "    Duration        Date  Pulse  Maxpulse  Calories\n",
            "0         60  2020/12/01    110       130     409.1\n",
            "1         60  2020/12/02    117       145     479.0\n",
            "2         60  2020/12/03    103       135     340.0\n",
            "3         45  2020/12/04    109       175     282.4\n",
            "4         45  2020/12/05    117       148     406.0\n",
            "5         60  2020/12/06    102       127     300.0\n",
            "6         60  2020/12/07    110       136     374.0\n",
            "7        450  2020/12/08    104       134     253.3\n",
            "8         30  2020/12/09    109       133     195.1\n",
            "9         60  2020/12/10     98       124     269.0\n",
            "10        60  2020/12/11    103       147     329.3\n",
            "11        60  2020/12/12    100       120     250.7\n",
            "12        60  2020/12/12    100       120     250.7\n",
            "13        60  2020/12/13    106       128     345.3\n",
            "14        60  2020/12/14    104       132     379.3\n",
            "15        60  2020/12/15     98       123     275.0\n",
            "16        60  2020/12/16     98       120     215.2\n",
            "17        60  2020/12/17    100       120     300.0\n",
            "18        45  2020/12/18     90       112       NaN\n",
            "19        60  2020/12/19    103       123     323.0\n",
            "20        45  2020/12/20     97       125     243.0\n",
            "21        60  2020/12/21    108       131     364.2\n",
            "22        45  2020/12/01    100       119     282.0\n",
            "23        60  2020/12/23    130       101     300.0\n",
            "24        45  2020/12/24    105       132     246.0\n",
            "25        60  2020/12/25    102       126     334.5\n",
            "26        60  2020/12/26    100       120     250.0\n",
            "27        60  2020/12/27     92       118     241.0\n",
            "28        60  2020/12/28    103       132       NaN\n",
            "29        60  2020/12/29    100       132     280.0\n",
            "30        60  2020/12/30    102       129     380.3\n",
            "31        60  2020/12/31     92       115     243.0\n",
            "<class 'pandas.core.frame.DataFrame'>\n",
            "RangeIndex: 32 entries, 0 to 31\n",
            "Data columns (total 5 columns):\n",
            " #   Column    Non-Null Count  Dtype  \n",
            "---  ------    --------------  -----  \n",
            " 0   Duration  32 non-null     int64  \n",
            " 1   Date      32 non-null     object \n",
            " 2   Pulse     32 non-null     int64  \n",
            " 3   Maxpulse  32 non-null     int64  \n",
            " 4   Calories  30 non-null     float64\n",
            "dtypes: float64(1), int64(3), object(1)\n",
            "memory usage: 1.4+ KB\n"
          ]
        }
      ]
    },
    {
      "cell_type": "markdown",
      "source": [
        "# Matplot"
      ],
      "metadata": {
        "id": "FyZtHJ8ei2K7"
      }
    },
    {
      "cell_type": "code",
      "source": [
        "# 1. Gathering the tools for drawing and data:\n",
        "import sys       # This helps with sending information out, like a messenger.\n",
        "import matplotlib  # This is the main library for creating plots and charts.\n",
        "matplotlib.use('Agg')  # This sets a drawing style that works in different environments. Agg is rendering based on C++ stands for Anti-Grain Geometry"
      ],
      "metadata": {
        "id": "0ML2-PBHi5Gq"
      },
      "execution_count": null,
      "outputs": []
    },
    {
      "cell_type": "code",
      "source": [
        "# 2. Bringing in pandas for data:\n",
        "import pandas as pd  # This library is like a toolbox for handling data in tables.\n",
        "import matplotlib.pyplot as plt  # This gives us specific tools for plotting."
      ],
      "metadata": {
        "id": "yBlu-7XtjCWd"
      },
      "execution_count": null,
      "outputs": []
    },
    {
      "cell_type": "code",
      "source": [
        "# 3. Loading the data from a CSV file:\n",
        "df = pd.read_csv('/content/drive/MyDrive/Data Bootcamp/Pandas/wk10_pandas_learner/Resources/data2.csv')  # This opens a CSV file, like a spreadsheet, and stores it as a DataFrame."
      ],
      "metadata": {
        "id": "MN7DQZ9YjKIW"
      },
      "execution_count": null,
      "outputs": []
    },
    {
      "cell_type": "code",
      "source": [
        "# 4. Creating a plot from the data:\n",
        "df.plot()  # This asks pandas to create a visual representation of the data in the DataFrame.\n",
        "\n",
        "# 5. Saving the plot as an image:\n",
        "plt.savefig('my_plot.png')  # Save the plot as a PNG image\n",
        "\n",
        "from IPython.display import Image\n",
        "plt.savefig('my_plot.png')\n",
        "Image('my_plot.png')  # Display the plot inline"
      ],
      "metadata": {
        "colab": {
          "base_uri": "https://localhost:8080/",
          "height": 497
        },
        "id": "9naRlSfJje5A",
        "outputId": "43f47d81-f69b-47fe-bc94-7ee3f3686817"
      },
      "execution_count": null,
      "outputs": [
        {
          "output_type": "execute_result",
          "data": {
            "image/png": "[encoded data removed]",
            "text/plain": [
              "<IPython.core.display.Image object>"
            ]
          },
          "metadata": {},
          "execution_count": 90
        }
      ]
    },
    {
      "cell_type": "code",
      "source": [
        "# 5. Saving the plot as an image:\n",
        "plt.savefig(sys.stdout.buffer)  # This saves the plot as a file, like taking a snapshot of the chart.\n",
        "sys.stdout.flush()  # This makes sure the saved image is sent out to be seen."
      ],
      "metadata": {
        "colab": {
          "base_uri": "https://localhost:8080/",
          "height": 183
        },
        "id": "95JNoLg5jg_Z",
        "outputId": "5407a361-efa5-4eb6-f62b-8409bb4f3c02"
      },
      "execution_count": null,
      "outputs": [
        {
          "output_type": "error",
          "ename": "AttributeError",
          "evalue": "'OutStream' object has no attribute 'buffer'",
          "traceback": [
            "\u001b[0;31m---------------------------------------------------------------------------\u001b[0m",
            "\u001b[0;31mAttributeError\u001b[0m                            Traceback (most recent call last)",
            "\u001b[0;32m<ipython-input-86-398b539de0aa>\u001b[0m in \u001b[0;36m<cell line: 2>\u001b[0;34m()\u001b[0m\n\u001b[1;32m      1\u001b[0m \u001b[0;31m# 5. Saving the plot as an image:\u001b[0m\u001b[0;34m\u001b[0m\u001b[0;34m\u001b[0m\u001b[0m\n\u001b[0;32m----> 2\u001b[0;31m \u001b[0mplt\u001b[0m\u001b[0;34m.\u001b[0m\u001b[0msavefig\u001b[0m\u001b[0;34m(\u001b[0m\u001b[0msys\u001b[0m\u001b[0;34m.\u001b[0m\u001b[0mstdout\u001b[0m\u001b[0;34m.\u001b[0m\u001b[0mbuffer\u001b[0m\u001b[0;34m)\u001b[0m  \u001b[0;31m# This saves the plot as a file, like taking a snapshot of the chart.\u001b[0m\u001b[0;34m\u001b[0m\u001b[0;34m\u001b[0m\u001b[0m\n\u001b[0m\u001b[1;32m      3\u001b[0m \u001b[0msys\u001b[0m\u001b[0;34m.\u001b[0m\u001b[0mstdout\u001b[0m\u001b[0;34m.\u001b[0m\u001b[0mflush\u001b[0m\u001b[0;34m(\u001b[0m\u001b[0;34m)\u001b[0m  \u001b[0;31m# This makes sure the saved image is sent out to be seen.\u001b[0m\u001b[0;34m\u001b[0m\u001b[0;34m\u001b[0m\u001b[0m\n",
            "\u001b[0;31mAttributeError\u001b[0m: 'OutStream' object has no attribute 'buffer'"
          ]
        }
      ]
    },
    {
      "cell_type": "markdown",
      "source": [
        "# Scatter plot"
      ],
      "metadata": {
        "id": "DmiF7I1lk4tA"
      }
    },
    {
      "cell_type": "code",
      "source": [],
      "metadata": {
        "id": "rPrE72VflTyl"
      },
      "execution_count": null,
      "outputs": []
    },
    {
      "cell_type": "code",
      "source": [
        "# 1. Import necessary libraries:\n",
        "import pandas as pd  # Library for data manipulation and analysis\n",
        "import matplotlib.pyplot as plt  # Library for creating visualizations\n",
        "\n",
        "# 2. Load the data from a CSV file:\n",
        "df = pd.read_csv('/content/drive/MyDrive/Data Bootcamp/Pandas/wk10_pandas_learner/Resources/data2.csv')  # Read the data into a DataFrame\n",
        "\n",
        "# 3. Create a scatter plot:\n",
        "df.plot(kind='scatter', x='Duration', y='Calories')  # Create a scatter plot\n",
        "                                                       # - Use 'Duration' as the x-axis\n",
        "                                                       # - Use 'Calories' as the y-axis\n",
        "\n",
        "# 4. Display the plot:\n",
        "plt.show()  # Show the generated plot - has been giving me problems\n",
        "# Import the Image feature for displaying images within the notebookif plot.show() doesnt work\n",
        "from IPython.display import Image\n",
        "plt.savefig('my_plot2.png')\n",
        "# Display the saved image inline within the notebook\n",
        "Image('my_plot2.png')"
      ],
      "metadata": {
        "colab": {
          "base_uri": "https://localhost:8080/",
          "height": 497
        },
        "id": "80pK7x9rTcq_",
        "outputId": "e635f6f9-0723-4445-b0d6-c66e1f15aef0"
      },
      "execution_count": null,
      "outputs": [
        {
          "output_type": "execute_result",
          "data": {
            "image/png": "[encoded data removed]",
            "text/plain": [
              "<IPython.core.display.Image object>"
            ]
          },
          "metadata": {},
          "execution_count": 96
        }
      ]
    }
  ],
  "metadata": {
    "colab": {
      "provenance": [],
      "authorship_tag": "ABX9TyOXNgygvERrfy1F1+4XjYrG",
      "include_colab_link": true
    },
    "kernelspec": {
      "display_name": "Python 3",
      "name": "python3"
    },
    "language_info": {
      "name": "python"
    }
  },
  "nbformat": 4,
  "nbformat_minor": 0
}